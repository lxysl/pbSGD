{
 "cells": [
  {
   "cell_type": "code",
   "execution_count": 1,
   "metadata": {
    "collapsed": true
   },
   "outputs": [],
   "source": [
    "import numpy as np\n",
    "import pandas as pd\n",
    "import datetime\n",
    "import re\n",
    "import wandb\n",
    "from sklearn.model_selection import train_test_split\n",
    "import os\n",
    "import scipy.io as sio\n",
    "import matplotlib.pyplot as plt"
   ]
  },
  {
   "cell_type": "code",
   "execution_count": 2,
   "outputs": [
    {
     "data": {
      "text/plain": "               name   best   last   optim      lr  gamma\n25  20230402-043450  93.75  93.61    Adam  0.0001    0.8\n26  20230402-024837  94.04  93.81    Adam  0.0005    0.8\n27  20230402-010232  92.43  92.31    Adam  0.0010    0.8\n28  20230401-231542  86.32  86.12    Adam  0.0050    0.8\n29  20230401-212942  84.59  83.81    Adam  0.0100    0.8\n20  20230402-135825  92.81  92.66  pbAdam  0.0001    0.2\n15  20230402-232304  92.89  92.77  pbAdam  0.0001    0.5\n10  20230403-084755  93.66  93.51  pbAdam  0.0001    0.8\n5   20230403-181603  92.97  92.89  pbAdam  0.0001    1.5\n0   20230404-033715  10.00  10.00  pbAdam  0.0001    2.5\n21  20230402-120435  93.82  93.68  pbAdam  0.0005    0.2\n16  20230402-213046  93.73  93.64  pbAdam  0.0005    0.5\n11  20230403-065433  94.32  94.14  pbAdam  0.0005    0.8\n6   20230403-162044  90.58  90.38  pbAdam  0.0005    1.5\n1   20230404-014450  10.00  10.00  pbAdam  0.0005    2.5\n22  20230402-100947  93.10  92.94  pbAdam  0.0010    0.2\n17  20230402-193730  93.64  93.51  pbAdam  0.0010    0.5\n12  20230403-050101  93.43  93.31  pbAdam  0.0010    0.8\n7   20230403-142821  85.23  84.97  pbAdam  0.0010    1.5\n2   20230403-235318  10.00  10.00  pbAdam  0.0010    2.5\n23  20230402-081558  91.53  91.26  pbAdam  0.0050    0.2\n18  20230402-174442  93.22  93.08  pbAdam  0.0050    0.5\n13  20230403-030849  90.00  89.83  pbAdam  0.0050    0.8\n8   20230403-123617  68.38  68.04  pbAdam  0.0050    1.5\n3   20230403-220117  10.00  10.00  pbAdam  0.0050    2.5\n24  20230402-062304  92.34  92.20  pbAdam  0.0100    0.2\n19  20230402-155208  92.72  92.62  pbAdam  0.0100    0.5\n14  20230403-011602  88.06  87.76  pbAdam  0.0100    0.8\n9   20230403-104256  63.42  63.06  pbAdam  0.0100    1.5\n4   20230403-200918  10.00  10.00  pbAdam  0.0100    2.5",
      "text/html": "<div>\n<style scoped>\n    .dataframe tbody tr th:only-of-type {\n        vertical-align: middle;\n    }\n\n    .dataframe tbody tr th {\n        vertical-align: top;\n    }\n\n    .dataframe thead th {\n        text-align: right;\n    }\n</style>\n<table border=\"1\" class=\"dataframe\">\n  <thead>\n    <tr style=\"text-align: right;\">\n      <th></th>\n      <th>name</th>\n      <th>best</th>\n      <th>last</th>\n      <th>optim</th>\n      <th>lr</th>\n      <th>gamma</th>\n    </tr>\n  </thead>\n  <tbody>\n    <tr>\n      <th>25</th>\n      <td>20230402-043450</td>\n      <td>93.75</td>\n      <td>93.61</td>\n      <td>Adam</td>\n      <td>0.0001</td>\n      <td>0.8</td>\n    </tr>\n    <tr>\n      <th>26</th>\n      <td>20230402-024837</td>\n      <td>94.04</td>\n      <td>93.81</td>\n      <td>Adam</td>\n      <td>0.0005</td>\n      <td>0.8</td>\n    </tr>\n    <tr>\n      <th>27</th>\n      <td>20230402-010232</td>\n      <td>92.43</td>\n      <td>92.31</td>\n      <td>Adam</td>\n      <td>0.0010</td>\n      <td>0.8</td>\n    </tr>\n    <tr>\n      <th>28</th>\n      <td>20230401-231542</td>\n      <td>86.32</td>\n      <td>86.12</td>\n      <td>Adam</td>\n      <td>0.0050</td>\n      <td>0.8</td>\n    </tr>\n    <tr>\n      <th>29</th>\n      <td>20230401-212942</td>\n      <td>84.59</td>\n      <td>83.81</td>\n      <td>Adam</td>\n      <td>0.0100</td>\n      <td>0.8</td>\n    </tr>\n    <tr>\n      <th>20</th>\n      <td>20230402-135825</td>\n      <td>92.81</td>\n      <td>92.66</td>\n      <td>pbAdam</td>\n      <td>0.0001</td>\n      <td>0.2</td>\n    </tr>\n    <tr>\n      <th>15</th>\n      <td>20230402-232304</td>\n      <td>92.89</td>\n      <td>92.77</td>\n      <td>pbAdam</td>\n      <td>0.0001</td>\n      <td>0.5</td>\n    </tr>\n    <tr>\n      <th>10</th>\n      <td>20230403-084755</td>\n      <td>93.66</td>\n      <td>93.51</td>\n      <td>pbAdam</td>\n      <td>0.0001</td>\n      <td>0.8</td>\n    </tr>\n    <tr>\n      <th>5</th>\n      <td>20230403-181603</td>\n      <td>92.97</td>\n      <td>92.89</td>\n      <td>pbAdam</td>\n      <td>0.0001</td>\n      <td>1.5</td>\n    </tr>\n    <tr>\n      <th>0</th>\n      <td>20230404-033715</td>\n      <td>10.00</td>\n      <td>10.00</td>\n      <td>pbAdam</td>\n      <td>0.0001</td>\n      <td>2.5</td>\n    </tr>\n    <tr>\n      <th>21</th>\n      <td>20230402-120435</td>\n      <td>93.82</td>\n      <td>93.68</td>\n      <td>pbAdam</td>\n      <td>0.0005</td>\n      <td>0.2</td>\n    </tr>\n    <tr>\n      <th>16</th>\n      <td>20230402-213046</td>\n      <td>93.73</td>\n      <td>93.64</td>\n      <td>pbAdam</td>\n      <td>0.0005</td>\n      <td>0.5</td>\n    </tr>\n    <tr>\n      <th>11</th>\n      <td>20230403-065433</td>\n      <td>94.32</td>\n      <td>94.14</td>\n      <td>pbAdam</td>\n      <td>0.0005</td>\n      <td>0.8</td>\n    </tr>\n    <tr>\n      <th>6</th>\n      <td>20230403-162044</td>\n      <td>90.58</td>\n      <td>90.38</td>\n      <td>pbAdam</td>\n      <td>0.0005</td>\n      <td>1.5</td>\n    </tr>\n    <tr>\n      <th>1</th>\n      <td>20230404-014450</td>\n      <td>10.00</td>\n      <td>10.00</td>\n      <td>pbAdam</td>\n      <td>0.0005</td>\n      <td>2.5</td>\n    </tr>\n    <tr>\n      <th>22</th>\n      <td>20230402-100947</td>\n      <td>93.10</td>\n      <td>92.94</td>\n      <td>pbAdam</td>\n      <td>0.0010</td>\n      <td>0.2</td>\n    </tr>\n    <tr>\n      <th>17</th>\n      <td>20230402-193730</td>\n      <td>93.64</td>\n      <td>93.51</td>\n      <td>pbAdam</td>\n      <td>0.0010</td>\n      <td>0.5</td>\n    </tr>\n    <tr>\n      <th>12</th>\n      <td>20230403-050101</td>\n      <td>93.43</td>\n      <td>93.31</td>\n      <td>pbAdam</td>\n      <td>0.0010</td>\n      <td>0.8</td>\n    </tr>\n    <tr>\n      <th>7</th>\n      <td>20230403-142821</td>\n      <td>85.23</td>\n      <td>84.97</td>\n      <td>pbAdam</td>\n      <td>0.0010</td>\n      <td>1.5</td>\n    </tr>\n    <tr>\n      <th>2</th>\n      <td>20230403-235318</td>\n      <td>10.00</td>\n      <td>10.00</td>\n      <td>pbAdam</td>\n      <td>0.0010</td>\n      <td>2.5</td>\n    </tr>\n    <tr>\n      <th>23</th>\n      <td>20230402-081558</td>\n      <td>91.53</td>\n      <td>91.26</td>\n      <td>pbAdam</td>\n      <td>0.0050</td>\n      <td>0.2</td>\n    </tr>\n    <tr>\n      <th>18</th>\n      <td>20230402-174442</td>\n      <td>93.22</td>\n      <td>93.08</td>\n      <td>pbAdam</td>\n      <td>0.0050</td>\n      <td>0.5</td>\n    </tr>\n    <tr>\n      <th>13</th>\n      <td>20230403-030849</td>\n      <td>90.00</td>\n      <td>89.83</td>\n      <td>pbAdam</td>\n      <td>0.0050</td>\n      <td>0.8</td>\n    </tr>\n    <tr>\n      <th>8</th>\n      <td>20230403-123617</td>\n      <td>68.38</td>\n      <td>68.04</td>\n      <td>pbAdam</td>\n      <td>0.0050</td>\n      <td>1.5</td>\n    </tr>\n    <tr>\n      <th>3</th>\n      <td>20230403-220117</td>\n      <td>10.00</td>\n      <td>10.00</td>\n      <td>pbAdam</td>\n      <td>0.0050</td>\n      <td>2.5</td>\n    </tr>\n    <tr>\n      <th>24</th>\n      <td>20230402-062304</td>\n      <td>92.34</td>\n      <td>92.20</td>\n      <td>pbAdam</td>\n      <td>0.0100</td>\n      <td>0.2</td>\n    </tr>\n    <tr>\n      <th>19</th>\n      <td>20230402-155208</td>\n      <td>92.72</td>\n      <td>92.62</td>\n      <td>pbAdam</td>\n      <td>0.0100</td>\n      <td>0.5</td>\n    </tr>\n    <tr>\n      <th>14</th>\n      <td>20230403-011602</td>\n      <td>88.06</td>\n      <td>87.76</td>\n      <td>pbAdam</td>\n      <td>0.0100</td>\n      <td>0.8</td>\n    </tr>\n    <tr>\n      <th>9</th>\n      <td>20230403-104256</td>\n      <td>63.42</td>\n      <td>63.06</td>\n      <td>pbAdam</td>\n      <td>0.0100</td>\n      <td>1.5</td>\n    </tr>\n    <tr>\n      <th>4</th>\n      <td>20230403-200918</td>\n      <td>10.00</td>\n      <td>10.00</td>\n      <td>pbAdam</td>\n      <td>0.0100</td>\n      <td>2.5</td>\n    </tr>\n  </tbody>\n</table>\n</div>"
     },
     "execution_count": 2,
     "metadata": {},
     "output_type": "execute_result"
    }
   ],
   "source": [
    "api = wandb.Api()\n",
    "\n",
    "runs = api.runs(path=\"lxy764139720/pbAdam\")\n",
    "summary_list, history_list, config_list, name_list = [], [], [], []\n",
    "optim_list, lr_list, gamma_list = [], [], []\n",
    "best_list, last_list = [], []\n",
    "for run in runs:\n",
    "    if run.config['arch'] == 'resnet50':\n",
    "        summary_list.append(run.summary._json_dict)\n",
    "        # history_list.append(run.history())\n",
    "        # config_list.append(\n",
    "        #     {k: v for k,v in run.config.items()\n",
    "        #      if not k.startswith('_')})\n",
    "        name_list.append(run.name)\n",
    "\n",
    "        try:\n",
    "            accuracy = run.history()['val acc'][-30:]\n",
    "            # 保留两位小数\n",
    "            best = np.round(max(accuracy), 2)\n",
    "            last = np.round(np.mean(accuracy), 2)\n",
    "            best_list.append(best)\n",
    "            last_list.append(last)\n",
    "        except:\n",
    "            best_list.append(0)\n",
    "            last_list.append(0)\n",
    "\n",
    "        optim = run.config['optim']\n",
    "        lr = run.config['lr']\n",
    "        gamma = run.config['gamma']\n",
    "\n",
    "        optim_list.append(optim)\n",
    "        lr_list.append(lr)\n",
    "        gamma_list.append(gamma)\n",
    "\n",
    "runs_df = pd.DataFrame({\n",
    "    \"name\": name_list,\n",
    "    \"best\": best_list,\n",
    "    \"last\": last_list,\n",
    "    \"optim\": optim_list,\n",
    "    \"lr\": lr_list,\n",
    "    \"gamma\": gamma_list,\n",
    "    })\n",
    "# runs_df = runs_df.sort_values(by=['optim', 'lr', 'gamma'])\n",
    "# sort runs_df by optim lr gamma, where lr is listed in descending order\n",
    "runs_df = runs_df.sort_values(by=['optim', 'lr', 'gamma'], ascending=[True, False, True])\n",
    "runs_df.to_csv(\"cifar10_res50_results.csv\")\n",
    "runs_df"
   ],
   "metadata": {
    "collapsed": false
   }
  },
  {
   "cell_type": "code",
   "execution_count": 2,
   "outputs": [
    {
     "data": {
      "text/plain": "               name   best   last   optim      lr  gamma\n29  20230406-003346  85.80  85.37    Adam  0.0100    0.8\n28  20230406-025329  87.66  87.48    Adam  0.0050    0.8\n0   20230411-164707  92.81  92.66    Adam  0.0010    0.8\n27  20230406-051511  94.23  93.99    Adam  0.0005    0.8\n26  20230406-073624  93.65  93.48    Adam  0.0001    0.8\n25  20230406-095752  92.42  91.91  pbAdam  0.0100    0.2\n20  20230409-161152  93.36  93.17  pbAdam  0.0100    0.5\n15  20230410-031713  89.88  89.69  pbAdam  0.0100    0.8\n10  20230410-142542  65.86  65.37  pbAdam  0.0100    1.5\n5   20230411-014332  10.00  10.00  pbAdam  0.0100    2.5\n24  20230406-123414  93.14  93.03  pbAdam  0.0050    0.2\n19  20230409-182746  93.95  93.80  pbAdam  0.0050    0.5\n14  20230410-053027  91.38  91.13  pbAdam  0.0050    0.8\n9   20230410-164318  65.68  65.39  pbAdam  0.0050    1.5\n4   20230411-035747  10.00  10.00  pbAdam  0.0050    2.5\n23  20230406-151100  93.83  93.73  pbAdam  0.0010    0.2\n18  20230409-203853  94.16  94.04  pbAdam  0.0010    0.5\n13  20230410-074355  94.09  93.91  pbAdam  0.0010    0.8\n8   20230410-185944  87.03  86.81  pbAdam  0.0010    1.5\n3   20230411-061223  10.00  10.00  pbAdam  0.0010    2.5\n22  20230406-175026  94.22  94.11  pbAdam  0.0005    0.2\n17  20230409-225059  94.53  94.38  pbAdam  0.0005    0.5\n12  20230410-095649  94.61  94.47  pbAdam  0.0005    0.8\n7   20230410-211451  91.26  91.06  pbAdam  0.0005    1.5\n2   20230411-082529  10.00  10.00  pbAdam  0.0005    2.5\n21  20230409-135827  93.30  93.12  pbAdam  0.0001    0.2\n16  20230410-010326  93.23  93.12  pbAdam  0.0001    0.5\n11  20230410-121212  93.74  93.57  pbAdam  0.0001    0.8\n6   20230410-232831  93.45  93.37  pbAdam  0.0001    1.5\n1   20230411-104930  10.00  10.00  pbAdam  0.0001    2.5",
      "text/html": "<div>\n<style scoped>\n    .dataframe tbody tr th:only-of-type {\n        vertical-align: middle;\n    }\n\n    .dataframe tbody tr th {\n        vertical-align: top;\n    }\n\n    .dataframe thead th {\n        text-align: right;\n    }\n</style>\n<table border=\"1\" class=\"dataframe\">\n  <thead>\n    <tr style=\"text-align: right;\">\n      <th></th>\n      <th>name</th>\n      <th>best</th>\n      <th>last</th>\n      <th>optim</th>\n      <th>lr</th>\n      <th>gamma</th>\n    </tr>\n  </thead>\n  <tbody>\n    <tr>\n      <th>29</th>\n      <td>20230406-003346</td>\n      <td>85.80</td>\n      <td>85.37</td>\n      <td>Adam</td>\n      <td>0.0100</td>\n      <td>0.8</td>\n    </tr>\n    <tr>\n      <th>28</th>\n      <td>20230406-025329</td>\n      <td>87.66</td>\n      <td>87.48</td>\n      <td>Adam</td>\n      <td>0.0050</td>\n      <td>0.8</td>\n    </tr>\n    <tr>\n      <th>0</th>\n      <td>20230411-164707</td>\n      <td>92.81</td>\n      <td>92.66</td>\n      <td>Adam</td>\n      <td>0.0010</td>\n      <td>0.8</td>\n    </tr>\n    <tr>\n      <th>27</th>\n      <td>20230406-051511</td>\n      <td>94.23</td>\n      <td>93.99</td>\n      <td>Adam</td>\n      <td>0.0005</td>\n      <td>0.8</td>\n    </tr>\n    <tr>\n      <th>26</th>\n      <td>20230406-073624</td>\n      <td>93.65</td>\n      <td>93.48</td>\n      <td>Adam</td>\n      <td>0.0001</td>\n      <td>0.8</td>\n    </tr>\n    <tr>\n      <th>25</th>\n      <td>20230406-095752</td>\n      <td>92.42</td>\n      <td>91.91</td>\n      <td>pbAdam</td>\n      <td>0.0100</td>\n      <td>0.2</td>\n    </tr>\n    <tr>\n      <th>20</th>\n      <td>20230409-161152</td>\n      <td>93.36</td>\n      <td>93.17</td>\n      <td>pbAdam</td>\n      <td>0.0100</td>\n      <td>0.5</td>\n    </tr>\n    <tr>\n      <th>15</th>\n      <td>20230410-031713</td>\n      <td>89.88</td>\n      <td>89.69</td>\n      <td>pbAdam</td>\n      <td>0.0100</td>\n      <td>0.8</td>\n    </tr>\n    <tr>\n      <th>10</th>\n      <td>20230410-142542</td>\n      <td>65.86</td>\n      <td>65.37</td>\n      <td>pbAdam</td>\n      <td>0.0100</td>\n      <td>1.5</td>\n    </tr>\n    <tr>\n      <th>5</th>\n      <td>20230411-014332</td>\n      <td>10.00</td>\n      <td>10.00</td>\n      <td>pbAdam</td>\n      <td>0.0100</td>\n      <td>2.5</td>\n    </tr>\n    <tr>\n      <th>24</th>\n      <td>20230406-123414</td>\n      <td>93.14</td>\n      <td>93.03</td>\n      <td>pbAdam</td>\n      <td>0.0050</td>\n      <td>0.2</td>\n    </tr>\n    <tr>\n      <th>19</th>\n      <td>20230409-182746</td>\n      <td>93.95</td>\n      <td>93.80</td>\n      <td>pbAdam</td>\n      <td>0.0050</td>\n      <td>0.5</td>\n    </tr>\n    <tr>\n      <th>14</th>\n      <td>20230410-053027</td>\n      <td>91.38</td>\n      <td>91.13</td>\n      <td>pbAdam</td>\n      <td>0.0050</td>\n      <td>0.8</td>\n    </tr>\n    <tr>\n      <th>9</th>\n      <td>20230410-164318</td>\n      <td>65.68</td>\n      <td>65.39</td>\n      <td>pbAdam</td>\n      <td>0.0050</td>\n      <td>1.5</td>\n    </tr>\n    <tr>\n      <th>4</th>\n      <td>20230411-035747</td>\n      <td>10.00</td>\n      <td>10.00</td>\n      <td>pbAdam</td>\n      <td>0.0050</td>\n      <td>2.5</td>\n    </tr>\n    <tr>\n      <th>23</th>\n      <td>20230406-151100</td>\n      <td>93.83</td>\n      <td>93.73</td>\n      <td>pbAdam</td>\n      <td>0.0010</td>\n      <td>0.2</td>\n    </tr>\n    <tr>\n      <th>18</th>\n      <td>20230409-203853</td>\n      <td>94.16</td>\n      <td>94.04</td>\n      <td>pbAdam</td>\n      <td>0.0010</td>\n      <td>0.5</td>\n    </tr>\n    <tr>\n      <th>13</th>\n      <td>20230410-074355</td>\n      <td>94.09</td>\n      <td>93.91</td>\n      <td>pbAdam</td>\n      <td>0.0010</td>\n      <td>0.8</td>\n    </tr>\n    <tr>\n      <th>8</th>\n      <td>20230410-185944</td>\n      <td>87.03</td>\n      <td>86.81</td>\n      <td>pbAdam</td>\n      <td>0.0010</td>\n      <td>1.5</td>\n    </tr>\n    <tr>\n      <th>3</th>\n      <td>20230411-061223</td>\n      <td>10.00</td>\n      <td>10.00</td>\n      <td>pbAdam</td>\n      <td>0.0010</td>\n      <td>2.5</td>\n    </tr>\n    <tr>\n      <th>22</th>\n      <td>20230406-175026</td>\n      <td>94.22</td>\n      <td>94.11</td>\n      <td>pbAdam</td>\n      <td>0.0005</td>\n      <td>0.2</td>\n    </tr>\n    <tr>\n      <th>17</th>\n      <td>20230409-225059</td>\n      <td>94.53</td>\n      <td>94.38</td>\n      <td>pbAdam</td>\n      <td>0.0005</td>\n      <td>0.5</td>\n    </tr>\n    <tr>\n      <th>12</th>\n      <td>20230410-095649</td>\n      <td>94.61</td>\n      <td>94.47</td>\n      <td>pbAdam</td>\n      <td>0.0005</td>\n      <td>0.8</td>\n    </tr>\n    <tr>\n      <th>7</th>\n      <td>20230410-211451</td>\n      <td>91.26</td>\n      <td>91.06</td>\n      <td>pbAdam</td>\n      <td>0.0005</td>\n      <td>1.5</td>\n    </tr>\n    <tr>\n      <th>2</th>\n      <td>20230411-082529</td>\n      <td>10.00</td>\n      <td>10.00</td>\n      <td>pbAdam</td>\n      <td>0.0005</td>\n      <td>2.5</td>\n    </tr>\n    <tr>\n      <th>21</th>\n      <td>20230409-135827</td>\n      <td>93.30</td>\n      <td>93.12</td>\n      <td>pbAdam</td>\n      <td>0.0001</td>\n      <td>0.2</td>\n    </tr>\n    <tr>\n      <th>16</th>\n      <td>20230410-010326</td>\n      <td>93.23</td>\n      <td>93.12</td>\n      <td>pbAdam</td>\n      <td>0.0001</td>\n      <td>0.5</td>\n    </tr>\n    <tr>\n      <th>11</th>\n      <td>20230410-121212</td>\n      <td>93.74</td>\n      <td>93.57</td>\n      <td>pbAdam</td>\n      <td>0.0001</td>\n      <td>0.8</td>\n    </tr>\n    <tr>\n      <th>6</th>\n      <td>20230410-232831</td>\n      <td>93.45</td>\n      <td>93.37</td>\n      <td>pbAdam</td>\n      <td>0.0001</td>\n      <td>1.5</td>\n    </tr>\n    <tr>\n      <th>1</th>\n      <td>20230411-104930</td>\n      <td>10.00</td>\n      <td>10.00</td>\n      <td>pbAdam</td>\n      <td>0.0001</td>\n      <td>2.5</td>\n    </tr>\n  </tbody>\n</table>\n</div>"
     },
     "execution_count": 2,
     "metadata": {},
     "output_type": "execute_result"
    }
   ],
   "source": [
    "api = wandb.Api()\n",
    "\n",
    "runs = api.runs(path=\"lxy764139720/pbAdam\")\n",
    "summary_list, history_list, config_list, name_list = [], [], [], []\n",
    "optim_list, lr_list, gamma_list = [], [], []\n",
    "best_list, last_list = [], []\n",
    "for run in runs:\n",
    "    if run.config['arch'] == 'densenet121':\n",
    "        summary_list.append(run.summary._json_dict)\n",
    "        # history_list.append(run.history())\n",
    "        # config_list.append(\n",
    "        #     {k: v for k,v in run.config.items()\n",
    "        #      if not k.startswith('_')})\n",
    "        name_list.append(run.name)\n",
    "\n",
    "        try:\n",
    "            accuracy = run.history()['val acc'][-30:]\n",
    "            # 保留两位小数\n",
    "            best = np.round(max(accuracy), 2)\n",
    "            last = np.round(np.mean(accuracy), 2)\n",
    "            best_list.append(best)\n",
    "            last_list.append(last)\n",
    "        except:\n",
    "            best_list.append(0)\n",
    "            last_list.append(0)\n",
    "\n",
    "        optim = run.config['optim']\n",
    "        lr = run.config['lr']\n",
    "        gamma = run.config['gamma']\n",
    "\n",
    "        optim_list.append(optim)\n",
    "        lr_list.append(lr)\n",
    "        gamma_list.append(gamma)\n",
    "\n",
    "runs_df = pd.DataFrame({\n",
    "    \"name\": name_list,\n",
    "    \"best\": best_list,\n",
    "    \"last\": last_list,\n",
    "    \"optim\": optim_list,\n",
    "    \"lr\": lr_list,\n",
    "    \"gamma\": gamma_list,\n",
    "    })\n",
    "# runs_df = runs_df.sort_values(by=['optim', 'lr', 'gamma'])\n",
    "# sort runs_df by optim lr gamma, where lr is listed in descending order\n",
    "runs_df = runs_df.sort_values(by=['optim', 'lr', 'gamma'], ascending=[True, False, True])\n",
    "runs_df.to_csv(\"cifar10_dense121_results.csv\")\n",
    "runs_df"
   ],
   "metadata": {
    "collapsed": false
   }
  },
  {
   "cell_type": "code",
   "execution_count": null,
   "outputs": [],
   "source": [],
   "metadata": {
    "collapsed": false
   }
  }
 ],
 "metadata": {
  "kernelspec": {
   "display_name": "Python 3",
   "language": "python",
   "name": "python3"
  },
  "language_info": {
   "codemirror_mode": {
    "name": "ipython",
    "version": 2
   },
   "file_extension": ".py",
   "mimetype": "text/x-python",
   "name": "python",
   "nbconvert_exporter": "python",
   "pygments_lexer": "ipython2",
   "version": "2.7.6"
  }
 },
 "nbformat": 4,
 "nbformat_minor": 0
}
